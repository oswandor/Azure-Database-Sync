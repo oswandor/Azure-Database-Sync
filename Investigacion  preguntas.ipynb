{
 "cells": [
  {
   "attachments": {},
   "cell_type": "markdown",
   "metadata": {},
   "source": [
    "## Administracion de base de Datos \n",
    "\n",
    "\n",
    "### Inicio rápido: Uso del editor de consultas de Azure Portal (versión preliminar) para consultar una base de datos de Azure SQL Database \n",
    "\n",
    "\n",
    "https://learn.microsoft.com/es-es/azure/azure-sql/database/connect-query-portal?view=azuresql\n",
    "\n",
    "\n",
    "\n",
    "\n",
    "\n",
    "### Diseño de una base de datos relacional en Azure SQL Database con SSMS \n",
    "\n",
    "\n",
    "https://learn.microsoft.com/es-es/azure/azure-sql/database/design-first-database-tutorial?view=azuresql"
   ]
  }
 ],
 "metadata": {
  "language_info": {
   "name": "python"
  },
  "orig_nbformat": 4
 },
 "nbformat": 4,
 "nbformat_minor": 2
}
