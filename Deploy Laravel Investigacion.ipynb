{
 "cells": [
  {
   "attachments": {},
   "cell_type": "markdown",
   "metadata": {},
   "source": [
    "## Implementación de una aplicación web de Node.js y MongoDB en Azure\n",
    " \n",
    "\n",
    "\n",
    "\n",
    "\n",
    "https://learn.microsoft.com/es-es/azure/app-service/tutorial-nodejs-mongodb-app\n",
    "\n",
    "\n",
    "\n"
   ]
  }
 ],
 "metadata": {
  "language_info": {
   "name": "python"
  },
  "orig_nbformat": 4
 },
 "nbformat": 4,
 "nbformat_minor": 2
}
