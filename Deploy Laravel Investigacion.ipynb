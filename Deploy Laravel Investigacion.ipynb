{
 "cells": [
  {
   "attachments": {},
   "cell_type": "markdown",
   "metadata": {},
   "source": [
    "## Implementación de una aplicación web de Node.js y MongoDB en Azure\n",
    " \n",
    "\n",
    "\n",
    "\n",
    "\n",
    "https://learn.microsoft.com/es-es/azure/app-service/tutorial-nodejs-mongodb-app\n",
    "\n",
    "\n",
    "### Deploying application in Azure Docker container Service with Azure DevOps 2019\n",
    " \n",
    "https://www.youtube.com/watch?v=ZSSLnlCQnI0\n",
    "\n",
    "\n",
    "\n",
    "\n",
    "### El mejor DOCKERFILE para LARAVEL con MYSQL y composer install\n",
    "\n",
    "https://www.youtube.com/watch?v=8Z4mTZTEXrs"
   ]
  },
  {
   "cell_type": "markdown",
   "metadata": {},
   "source": []
  }
 ],
 "metadata": {
  "language_info": {
   "name": "python"
  },
  "orig_nbformat": 4
 },
 "nbformat": 4,
 "nbformat_minor": 2
}
